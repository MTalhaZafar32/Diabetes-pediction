{
 "cells": [
  {
   "cell_type": "markdown",
   "id": "0ec2098f",
   "metadata": {
    "papermill": {
     "duration": 0.020068,
     "end_time": "2023-08-05T15:59:58.587364",
     "exception": false,
     "start_time": "2023-08-05T15:59:58.567296",
     "status": "completed"
    },
    "tags": []
   },
   "source": [
    "# Diabetes Prediction"
   ]
  },
  {
   "cell_type": "markdown",
   "id": "2ff5e4ee",
   "metadata": {
    "papermill": {
     "duration": 0.020632,
     "end_time": "2023-08-05T15:59:58.627664",
     "exception": false,
     "start_time": "2023-08-05T15:59:58.607032",
     "status": "completed"
    },
    "tags": []
   },
   "source": [
    "**Content:**\n",
    "\n",
    "Several constraints were placed on the selection of these instances from a larger database. In particular, all patients here are females at least 21 years old of Pima Indian heritage.\n",
    "\n",
    "1. Pregnancies: Number of times pregnant,\n",
    "2. Glucose: Plasma glucose concentration a 2 hours in an oral glucose tolerance test,\n",
    "3. BloodPressure: Diastolic blood pressure (mm Hg),\n",
    "4. SkinThickness: Triceps skin fold thickness (mm),\n",
    "5. Insulin: 2-Hour serum insulin (mu U/ml),\n",
    "6. BMI: Body mass index (weight in kg/(height in m)^2),\n",
    "7. DiabetesPedigreeFunction: Diabetes pedigree function,\n",
    "8. Age: Age (years),\n",
    "9. Outcome: Class variable (0 or 1)"
   ]
  },
  {
   "cell_type": "code",
   "execution_count": 1,
   "id": "25d07f6c",
   "metadata": {
    "execution": {
     "iopub.execute_input": "2023-08-05T15:59:58.668841Z",
     "iopub.status.busy": "2023-08-05T15:59:58.668423Z",
     "iopub.status.idle": "2023-08-05T16:00:00.777075Z",
     "shell.execute_reply": "2023-08-05T16:00:00.775503Z"
    },
    "papermill": {
     "duration": 2.132554,
     "end_time": "2023-08-05T16:00:00.780017",
     "exception": false,
     "start_time": "2023-08-05T15:59:58.647463",
     "status": "completed"
    },
    "tags": []
   },
   "outputs": [
    {
     "name": "stderr",
     "output_type": "stream",
     "text": [
      "/opt/conda/lib/python3.10/site-packages/scipy/__init__.py:146: UserWarning: A NumPy version >=1.16.5 and <1.23.0 is required for this version of SciPy (detected version 1.23.5\n",
      "  warnings.warn(f\"A NumPy version >={np_minversion} and <{np_maxversion}\"\n"
     ]
    }
   ],
   "source": [
    "#Load libraries\n",
    "import pandas as pd\n",
    "import numpy as np\n",
    "import matplotlib.pyplot as plt\n",
    "import seaborn as sns\n",
    "import sklearn\n",
    "import pandas as pd\n",
    "import scikitplot as skplt\n",
    "from sklearn.metrics import confusion_matrix\n",
    "from sklearn.model_selection import train_test_split, cross_val_score\n",
    "from sklearn.preprocessing import LabelEncoder\n",
    "from xgboost import XGBClassifier\n",
    "import xgboost as xgb \n",
    "from sklearn.model_selection import GridSearchCV\n",
    "from sklearn.metrics import accuracy_score, classification_report\n"
   ]
  },
  {
   "cell_type": "code",
   "execution_count": 2,
   "id": "0b42f679",
   "metadata": {
    "execution": {
     "iopub.execute_input": "2023-08-05T16:00:00.822783Z",
     "iopub.status.busy": "2023-08-05T16:00:00.822335Z",
     "iopub.status.idle": "2023-08-05T16:00:00.853703Z",
     "shell.execute_reply": "2023-08-05T16:00:00.852685Z"
    },
    "papermill": {
     "duration": 0.055673,
     "end_time": "2023-08-05T16:00:00.856434",
     "exception": false,
     "start_time": "2023-08-05T16:00:00.800761",
     "status": "completed"
    },
    "tags": []
   },
   "outputs": [],
   "source": [
    "df = pd.read_csv(\"/kaggle/input/pima-indians-diabetes-database/diabetes.csv\")"
   ]
  },
  {
   "cell_type": "code",
   "execution_count": 3,
   "id": "deb75b52",
   "metadata": {
    "execution": {
     "iopub.execute_input": "2023-08-05T16:00:00.899792Z",
     "iopub.status.busy": "2023-08-05T16:00:00.897214Z",
     "iopub.status.idle": "2023-08-05T16:00:00.924434Z",
     "shell.execute_reply": "2023-08-05T16:00:00.923228Z"
    },
    "papermill": {
     "duration": 0.051021,
     "end_time": "2023-08-05T16:00:00.927103",
     "exception": false,
     "start_time": "2023-08-05T16:00:00.876082",
     "status": "completed"
    },
    "tags": []
   },
   "outputs": [
    {
     "data": {
      "text/html": [
       "<div>\n",
       "<style scoped>\n",
       "    .dataframe tbody tr th:only-of-type {\n",
       "        vertical-align: middle;\n",
       "    }\n",
       "\n",
       "    .dataframe tbody tr th {\n",
       "        vertical-align: top;\n",
       "    }\n",
       "\n",
       "    .dataframe thead th {\n",
       "        text-align: right;\n",
       "    }\n",
       "</style>\n",
       "<table border=\"1\" class=\"dataframe\">\n",
       "  <thead>\n",
       "    <tr style=\"text-align: right;\">\n",
       "      <th></th>\n",
       "      <th>Pregnancies</th>\n",
       "      <th>Glucose</th>\n",
       "      <th>BloodPressure</th>\n",
       "      <th>SkinThickness</th>\n",
       "      <th>Insulin</th>\n",
       "      <th>BMI</th>\n",
       "      <th>DiabetesPedigreeFunction</th>\n",
       "      <th>Age</th>\n",
       "      <th>Outcome</th>\n",
       "    </tr>\n",
       "  </thead>\n",
       "  <tbody>\n",
       "    <tr>\n",
       "      <th>0</th>\n",
       "      <td>6</td>\n",
       "      <td>148</td>\n",
       "      <td>72</td>\n",
       "      <td>35</td>\n",
       "      <td>0</td>\n",
       "      <td>33.6</td>\n",
       "      <td>0.627</td>\n",
       "      <td>50</td>\n",
       "      <td>1</td>\n",
       "    </tr>\n",
       "    <tr>\n",
       "      <th>1</th>\n",
       "      <td>1</td>\n",
       "      <td>85</td>\n",
       "      <td>66</td>\n",
       "      <td>29</td>\n",
       "      <td>0</td>\n",
       "      <td>26.6</td>\n",
       "      <td>0.351</td>\n",
       "      <td>31</td>\n",
       "      <td>0</td>\n",
       "    </tr>\n",
       "    <tr>\n",
       "      <th>2</th>\n",
       "      <td>8</td>\n",
       "      <td>183</td>\n",
       "      <td>64</td>\n",
       "      <td>0</td>\n",
       "      <td>0</td>\n",
       "      <td>23.3</td>\n",
       "      <td>0.672</td>\n",
       "      <td>32</td>\n",
       "      <td>1</td>\n",
       "    </tr>\n",
       "    <tr>\n",
       "      <th>3</th>\n",
       "      <td>1</td>\n",
       "      <td>89</td>\n",
       "      <td>66</td>\n",
       "      <td>23</td>\n",
       "      <td>94</td>\n",
       "      <td>28.1</td>\n",
       "      <td>0.167</td>\n",
       "      <td>21</td>\n",
       "      <td>0</td>\n",
       "    </tr>\n",
       "    <tr>\n",
       "      <th>4</th>\n",
       "      <td>0</td>\n",
       "      <td>137</td>\n",
       "      <td>40</td>\n",
       "      <td>35</td>\n",
       "      <td>168</td>\n",
       "      <td>43.1</td>\n",
       "      <td>2.288</td>\n",
       "      <td>33</td>\n",
       "      <td>1</td>\n",
       "    </tr>\n",
       "  </tbody>\n",
       "</table>\n",
       "</div>"
      ],
      "text/plain": [
       "   Pregnancies  Glucose  BloodPressure  SkinThickness  Insulin   BMI  \\\n",
       "0            6      148             72             35        0  33.6   \n",
       "1            1       85             66             29        0  26.6   \n",
       "2            8      183             64              0        0  23.3   \n",
       "3            1       89             66             23       94  28.1   \n",
       "4            0      137             40             35      168  43.1   \n",
       "\n",
       "   DiabetesPedigreeFunction  Age  Outcome  \n",
       "0                     0.627   50        1  \n",
       "1                     0.351   31        0  \n",
       "2                     0.672   32        1  \n",
       "3                     0.167   21        0  \n",
       "4                     2.288   33        1  "
      ]
     },
     "execution_count": 3,
     "metadata": {},
     "output_type": "execute_result"
    }
   ],
   "source": [
    "df.head() #printed first five rows"
   ]
  },
  {
   "cell_type": "code",
   "execution_count": 4,
   "id": "65b182fc",
   "metadata": {
    "execution": {
     "iopub.execute_input": "2023-08-05T16:00:00.970987Z",
     "iopub.status.busy": "2023-08-05T16:00:00.969864Z",
     "iopub.status.idle": "2023-08-05T16:00:00.977820Z",
     "shell.execute_reply": "2023-08-05T16:00:00.976771Z"
    },
    "papermill": {
     "duration": 0.032103,
     "end_time": "2023-08-05T16:00:00.980216",
     "exception": false,
     "start_time": "2023-08-05T16:00:00.948113",
     "status": "completed"
    },
    "tags": []
   },
   "outputs": [
    {
     "data": {
      "text/plain": [
       "(768, 9)"
      ]
     },
     "execution_count": 4,
     "metadata": {},
     "output_type": "execute_result"
    }
   ],
   "source": [
    "df.shape #checking number of rows and columns "
   ]
  },
  {
   "cell_type": "markdown",
   "id": "800d472d",
   "metadata": {
    "papermill": {
     "duration": 0.035148,
     "end_time": "2023-08-05T16:00:12.565460",
     "exception": false,
     "start_time": "2023-08-05T16:00:12.530312",
     "status": "completed"
    },
    "tags": []
   },
   "source": [
    "# Data Preprocessing:"
   ]
  },
  {
   "cell_type": "code",
   "execution_count": 35,
   "id": "35215cca",
   "metadata": {
    "execution": {
     "iopub.execute_input": "2023-08-05T16:00:12.636634Z",
     "iopub.status.busy": "2023-08-05T16:00:12.636225Z",
     "iopub.status.idle": "2023-08-05T16:00:12.646624Z",
     "shell.execute_reply": "2023-08-05T16:00:12.645190Z"
    },
    "papermill": {
     "duration": 0.048756,
     "end_time": "2023-08-05T16:00:12.648942",
     "exception": false,
     "start_time": "2023-08-05T16:00:12.600186",
     "status": "completed"
    },
    "tags": []
   },
   "outputs": [],
   "source": [
    "import pandas as pd\n",
    "\n",
    "# Function to preprocess the data\n",
    "def preprocess_data(df):\n",
    "    # Use only the specified columns and drop the unnecessary ones\n",
    "    columns_to_keep = ['Pregnancies', 'Glucose', 'BloodPressure', 'SkinThickness', 'Insulin',\n",
    "                       'BMI', 'DiabetesPedigreeFunction', 'Age', 'Outcome']\n",
    "    df = df[columns_to_keep]\n",
    "\n",
    "    # Separate the features (X) and target variable (y)\n",
    "    X = df.drop(columns=['Outcome'])\n",
    "    y = df['Outcome']\n",
    "    return X, y\n",
    "\n",
    "# Assuming df is the DataFrame containing your data\n",
    "X, y = preprocess_data(df)\n"
   ]
  },
  {
   "cell_type": "markdown",
   "id": "08edb6fe",
   "metadata": {
    "papermill": {
     "duration": 0.034544,
     "end_time": "2023-08-05T16:00:12.718472",
     "exception": false,
     "start_time": "2023-08-05T16:00:12.683928",
     "status": "completed"
    },
    "tags": []
   },
   "source": [
    "# Model Training with Hyperparameter Tuning:"
   ]
  },
  {
   "cell_type": "code",
   "execution_count": 36,
   "id": "2edf5c0f",
   "metadata": {
    "execution": {
     "iopub.execute_input": "2023-08-05T16:00:12.791405Z",
     "iopub.status.busy": "2023-08-05T16:00:12.790961Z",
     "iopub.status.idle": "2023-08-05T16:00:39.611306Z",
     "shell.execute_reply": "2023-08-05T16:00:39.610227Z"
    },
    "papermill": {
     "duration": 26.860237,
     "end_time": "2023-08-05T16:00:39.613711",
     "exception": false,
     "start_time": "2023-08-05T16:00:12.753474",
     "status": "completed"
    },
    "tags": []
   },
   "outputs": [
    {
     "name": "stderr",
     "output_type": "stream",
     "text": [
      "/opt/conda/lib/python3.10/site-packages/scipy/__init__.py:146: UserWarning: A NumPy version >=1.16.5 and <1.23.0 is required for this version of SciPy (detected version 1.23.5\n",
      "  warnings.warn(f\"A NumPy version >={np_minversion} and <{np_maxversion}\"\n",
      "/opt/conda/lib/python3.10/site-packages/scipy/__init__.py:146: UserWarning: A NumPy version >=1.16.5 and <1.23.0 is required for this version of SciPy (detected version 1.23.5\n",
      "  warnings.warn(f\"A NumPy version >={np_minversion} and <{np_maxversion}\"\n",
      "/opt/conda/lib/python3.10/site-packages/scipy/__init__.py:146: UserWarning: A NumPy version >=1.16.5 and <1.23.0 is required for this version of SciPy (detected version 1.23.5\n",
      "  warnings.warn(f\"A NumPy version >={np_minversion} and <{np_maxversion}\"\n",
      "/opt/conda/lib/python3.10/site-packages/scipy/__init__.py:146: UserWarning: A NumPy version >=1.16.5 and <1.23.0 is required for this version of SciPy (detected version 1.23.5\n",
      "  warnings.warn(f\"A NumPy version >={np_minversion} and <{np_maxversion}\"\n"
     ]
    },
    {
     "name": "stdout",
     "output_type": "stream",
     "text": [
      "Best Parameters: {'gamma': 0, 'learning_rate': 0.01, 'max_depth': 4, 'n_estimators': 300}\n",
      "Best Accuracy: 0.783406637345062\n"
     ]
    }
   ],
   "source": [
    "import xgboost as xgb\n",
    "from sklearn.model_selection import train_test_split, GridSearchCV\n",
    "\n",
    "# Function to train the model with hyperparameter tuning\n",
    "def train_model(X_train, y_train):\n",
    "    model = xgb.XGBClassifier()\n",
    "    param_grid = {\n",
    "        'max_depth': [3, 4, 5],\n",
    "        'learning_rate': [0.01, 0.1, 0.2],\n",
    "        'n_estimators': [100, 200, 300],\n",
    "        'gamma': [0, 0.1, 0.2],\n",
    "    }\n",
    "    grid_search = GridSearchCV(model, param_grid, cv=5, scoring='accuracy', n_jobs=-1)\n",
    "    grid_search.fit(X_train, y_train)\n",
    "    best_model = grid_search.best_estimator_\n",
    "    print(\"Best Parameters:\", grid_search.best_params_)\n",
    "    print(\"Best Accuracy:\", grid_search.best_score_)\n",
    "    return best_model\n",
    "\n",
    "# Split data into training and testing sets\n",
    "X_train, X_test, y_train, y_test = train_test_split(X, y, test_size=0.2, random_state=42)\n",
    "\n",
    "# Train the model with hyperparameter tuning\n",
    "model = train_model(X_train, y_train)\n"
   ]
  },
  {
   "cell_type": "markdown",
   "id": "ed8af0b4",
   "metadata": {
    "papermill": {
     "duration": 0.034904,
     "end_time": "2023-08-05T16:00:39.685422",
     "exception": false,
     "start_time": "2023-08-05T16:00:39.650518",
     "status": "completed"
    },
    "tags": []
   },
   "source": [
    "# Model Evaluation:"
   ]
  },
  {
   "cell_type": "code",
   "execution_count": 37,
   "id": "fa64ff8b",
   "metadata": {
    "execution": {
     "iopub.execute_input": "2023-08-05T16:00:39.760011Z",
     "iopub.status.busy": "2023-08-05T16:00:39.759586Z",
     "iopub.status.idle": "2023-08-05T16:00:39.791237Z",
     "shell.execute_reply": "2023-08-05T16:00:39.789943Z"
    },
    "papermill": {
     "duration": 0.071293,
     "end_time": "2023-08-05T16:00:39.793672",
     "exception": false,
     "start_time": "2023-08-05T16:00:39.722379",
     "status": "completed"
    },
    "tags": []
   },
   "outputs": [
    {
     "name": "stdout",
     "output_type": "stream",
     "text": [
      "Accuracy: 0.7467532467532467\n",
      "              precision    recall  f1-score   support\n",
      "\n",
      "           0       0.81      0.79      0.80        99\n",
      "           1       0.64      0.67      0.65        55\n",
      "\n",
      "    accuracy                           0.75       154\n",
      "   macro avg       0.73      0.73      0.73       154\n",
      "weighted avg       0.75      0.75      0.75       154\n",
      "\n"
     ]
    }
   ],
   "source": [
    "from sklearn.metrics import accuracy_score, classification_report\n",
    "\n",
    "# Function to evaluate the model on the test set\n",
    "def evaluate_model(model, X_test, y_test):\n",
    "    predictions = model.predict(X_test)\n",
    "    proba_positive = model.predict_proba(X_test)[:, 1]\n",
    "    accuracy = accuracy_score(y_test, predictions)\n",
    "    print(\"Accuracy:\", accuracy)\n",
    "    print(classification_report(y_test, predictions))\n",
    "    return predictions, proba_positive\n",
    "\n",
    "# Evaluate the model and get predictions\n",
    "predictions, proba_positive = evaluate_model(model, X_test, y_test)\n"
   ]
  },
  {
   "cell_type": "code",
   "execution_count": 38,
   "id": "5b09ca5b",
   "metadata": {
    "execution": {
     "iopub.execute_input": "2023-08-05T16:00:39.869844Z",
     "iopub.status.busy": "2023-08-05T16:00:39.869003Z",
     "iopub.status.idle": "2023-08-05T16:00:40.182280Z",
     "shell.execute_reply": "2023-08-05T16:00:40.181339Z"
    },
    "papermill": {
     "duration": 0.353415,
     "end_time": "2023-08-05T16:00:40.184655",
     "exception": false,
     "start_time": "2023-08-05T16:00:39.831240",
     "status": "completed"
    },
    "tags": []
   },
   "outputs": [
    {
     "data": {
      "image/png": "[encoded data removed]",
      "text/plain": [
       "<Figure size 640x480 with 2 Axes>"
      ]
     },
     "metadata": {},
     "output_type": "display_data"
    }
   ],
   "source": [
    "# Confusion Matrix\n",
    "skplt.metrics.plot_confusion_matrix(y_test, predictions, normalize=True)\n",
    "plt.title(\"Normalized Confusion Matrix\")\n",
    "plt.show()\n"
   ]
  },
  {
   "cell_type": "markdown",
   "id": "5e74a1a5",
   "metadata": {
    "papermill": {
     "duration": 0.036537,
     "end_time": "2023-08-05T16:00:40.257278",
     "exception": false,
     "start_time": "2023-08-05T16:00:40.220741",
     "status": "completed"
    },
    "tags": []
   },
   "source": [
    "# Saving Results to CSV:"
   ]
  },
  {
   "cell_type": "code",
   "execution_count": 39,
   "id": "b73bcdb5",
   "metadata": {
    "execution": {
     "iopub.execute_input": "2023-08-05T16:00:40.331945Z",
     "iopub.status.busy": "2023-08-05T16:00:40.330917Z",
     "iopub.status.idle": "2023-08-05T16:00:40.344760Z",
     "shell.execute_reply": "2023-08-05T16:00:40.343756Z"
    },
    "papermill": {
     "duration": 0.05447,
     "end_time": "2023-08-05T16:00:40.347371",
     "exception": false,
     "start_time": "2023-08-05T16:00:40.292901",
     "status": "completed"
    },
    "tags": []
   },
   "outputs": [],
   "source": [
    "# Function to save test results to a CSV file\n",
    "def save_results(X_test, y_test, predictions, proba_positive, filename):\n",
    "    results_df = X_test.copy()\n",
    "    results_df['True_Outcome'] = y_test\n",
    "    results_df['Predicted_Outcome'] = predictions\n",
    "    results_df['Probability_of_Outcome'] = proba_positive\n",
    "    results_df.to_csv(filename, index=False)\n",
    "\n",
    "# Save test results to a new CSV file\n",
    "test_results_file = 'test_results.csv'\n",
    "save_results(X_test, y_test, predictions, proba_positive, test_results_file)\n"
   ]
  },
  {
   "cell_type": "code",
   "execution_count": null,
   "id": "7e583f97",
   "metadata": {
    "papermill": {
     "duration": 0.035464,
     "end_time": "2023-08-05T16:00:40.418665",
     "exception": false,
     "start_time": "2023-08-05T16:00:40.383201",
     "status": "completed"
    },
    "tags": []
   },
   "outputs": [],
   "source": []
  }
 ],
 "metadata": {
  "kernelspec": {
   "display_name": "Python 3 (ipykernel)",
   "language": "python",
   "name": "python3"
  },
  "language_info": {
   "codemirror_mode": {
    "name": "ipython",
    "version": 3
   },
   "file_extension": ".py",
   "mimetype": "text/x-python",
   "name": "python",
   "nbconvert_exporter": "python",
   "pygments_lexer": "ipython3",
   "version": "3.9.13"
  },
  "papermill": {
   "default_parameters": {},
   "duration": 56.014915,
   "end_time": "2023-08-05T16:00:43.076013",
   "environment_variables": {},
   "exception": null,
   "input_path": "__notebook__.ipynb",
   "output_path": "__notebook__.ipynb",
   "parameters": {},
   "start_time": "2023-08-05T15:59:47.061098",
   "version": "2.4.0"
  }
 },
 "nbformat": 4,
 "nbformat_minor": 5
}
